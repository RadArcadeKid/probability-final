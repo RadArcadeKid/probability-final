{
 "cells": [
  {
   "cell_type": "markdown",
   "metadata": {},
   "source": [
    "\n",
    "# Probably and Statistics: Final Project\n",
    "## Video Game Reviews and Probability Analytics\n",
    "***\n",
    "\n",
    "**Team:** \n",
    "Laura Pantleno; Jacob (Jake) Henson\n",
    "\n",
    "\n",
    "***\n",
    "\n",
    "This assignment is the notebook for our final project on video games. We are using data from https://corgis-edu.github.io/corgis/csv/video_games/ in order to get a look at metacritic score, console, publisher, and see how this all relates \n",
    "\n",
    "\n",
    "__\n",
    "\n",
    "\n"
   ]
  },
  {
   "cell_type": "markdown",
   "metadata": {},
   "source": [
    " - What are the most popular genres for Nintendo/Ubisoft/EA/Activision/Sega/Ubisoft/Capcom/Etc4\n",
    " - What are the most popular genres for each console? "
   ]
  },
  {
   "cell_type": "markdown",
   "metadata": {},
   "source": [
    "___\n",
    "- Does metacritic score have an effect on used price? How does this relate to when the game was released? \n",
    " - Does a game's length correspond to a higher Metacritic score? "
   ]
  },
  {
   "cell_type": "code",
   "execution_count": null,
   "metadata": {},
   "outputs": [],
   "source": []
  }
 ],
 "metadata": {
  "kernelspec": {
   "display_name": "Python 3",
   "language": "python",
   "name": "python3"
  },
  "language_info": {
   "codemirror_mode": {
    "name": "ipython",
    "version": 3
   },
   "file_extension": ".py",
   "mimetype": "text/x-python",
   "name": "python",
   "nbconvert_exporter": "python",
   "pygments_lexer": "ipython3",
   "version": "3.7.3"
  }
 },
 "nbformat": 4,
 "nbformat_minor": 4
}
