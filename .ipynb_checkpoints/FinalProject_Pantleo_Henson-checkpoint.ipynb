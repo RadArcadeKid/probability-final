{
 "cells": [
  {
   "cell_type": "markdown",
   "metadata": {},
   "source": [
    "\n",
    "# Probably and Statistics: Final Project\n",
    "## Video game reviews/sales and Probability Analytics\n",
    "***\n",
    "\n",
    "**Team:** \n",
    "Laura Pantleno; Jacob (Jake) Henson\n",
    "\n",
    "\n",
    "***\n",
    "\n",
    "This assignment is the notebook for our final project on video games and stuff. \n",
    "\n",
    "\n",
    "*(More verbose description goes here once we figure out what it is we're doing with the data)*"
   ]
  },
  {
   "cell_type": "code",
   "execution_count": null,
   "metadata": {},
   "outputs": [],
   "source": []
  }
 ],
 "metadata": {
  "kernelspec": {
   "display_name": "Python 3",
   "language": "python",
   "name": "python3"
  },
  "language_info": {
   "codemirror_mode": {
    "name": "ipython",
    "version": 3
   },
   "file_extension": ".py",
   "mimetype": "text/x-python",
   "name": "python",
   "nbconvert_exporter": "python",
   "pygments_lexer": "ipython3",
   "version": "3.7.3"
  }
 },
 "nbformat": 4,
 "nbformat_minor": 4
}
